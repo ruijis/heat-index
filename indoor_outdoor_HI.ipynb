{
 "cells": [
  {
   "cell_type": "code",
   "execution_count": 2,
   "metadata": {},
   "outputs": [],
   "source": [
    "# Import required libraries\n",
    "import pandas as pd\n",
    "import numpy as np\n",
    "import matplotlib.pyplot as plt"
   ]
  },
  {
   "cell_type": "code",
   "execution_count": 3,
   "metadata": {},
   "outputs": [
    {
     "name": "stdout",
     "output_type": "stream",
     "text": [
      "Total buildings: 809\n",
      "Total records: 109033\n"
     ]
    },
    {
     "name": "stderr",
     "output_type": "stream",
     "text": [
      "/tmp/ipykernel_5810/1041017263.py:7: DtypeWarning: Columns (5,35,36) have mixed types. Specify dtype option on import or set low_memory=False.\n",
      "  df_measurements = pd.read_csv(url_measurements)\n"
     ]
    }
   ],
   "source": [
    "# Read metadata from Github\n",
    "url_meta = \"https://github.com/CenterForTheBuiltEnvironment/ashrae-db-II/raw/master/v2.1.0/db_metadata.csv\"\n",
    "df_meta = pd.read_csv(url_meta)\n",
    "\n",
    "# Read database from Github\n",
    "url_measurements = \"https://github.com/CenterForTheBuiltEnvironment/ashrae-db-II/raw/master/v2.1.0/db_measurements_v2.1.0.csv.gz\"\n",
    "df_measurements = pd.read_csv(url_measurements)\n",
    "\n",
    "# Merge building metadata and measurement data\n",
    "df_rawdata = df_measurements.merge(df_meta[['building_id', 'city', 'building_type', 'cooling_type', 'records', 'database']], on='building_id', how='left')\n",
    "\n",
    "print('Total buildings:', len(df_rawdata.building_id.unique()))\n",
    "print('Total records:', len(df_rawdata))"
   ]
  },
  {
   "cell_type": "code",
   "execution_count": 4,
   "metadata": {},
   "outputs": [],
   "source": [
    "# Merge two outdoor air temperature columns as a new column\n",
    "df_rawdata.loc[:, 't_out_combined'] = df_rawdata.loc[:, 't_out_isd'].fillna(df_rawdata.loc[:, 't_out'])\n",
    "# Remove the two outdoor air temperature columns\n",
    "df_rawdata = df_rawdata.drop(columns=['t_out_isd', 't_out'])"
   ]
  },
  {
   "cell_type": "code",
   "execution_count": null,
   "metadata": {},
   "outputs": [],
   "source": [
    "# Keep rows that simultaneously have data for all variables in cols \n",
    "def filter(df, cols):\n",
    "    df_qualifed = df.dropna(subset=cols)\n",
    "    print(f'Qualified buildings:', len(df_qualifed['building_id'].unique()))\n",
    "    print(f'Qualified records:', len(df_qualifed))\n",
    "    return df_qualifed\n",
    "\n",
    "# Keep rows that simultaneously have data for all variables in cols\n",
    "cols_1 = ['t_out_combined', 'set', 'top', 'thermal_sensation']\n",
    "df_data = filter(df_rawdata, cols_1).copy()"
   ]
  }
 ],
 "metadata": {
  "kernelspec": {
   "display_name": "Python 3",
   "language": "python",
   "name": "python3"
  },
  "language_info": {
   "codemirror_mode": {
    "name": "ipython",
    "version": 3
   },
   "file_extension": ".py",
   "mimetype": "text/x-python",
   "name": "python",
   "nbconvert_exporter": "python",
   "pygments_lexer": "ipython3",
   "version": "3.12.1"
  }
 },
 "nbformat": 4,
 "nbformat_minor": 2
}
